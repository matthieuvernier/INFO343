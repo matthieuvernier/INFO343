{
 "cells": [
  {
   "cell_type": "markdown",
   "metadata": {
    "slideshow": {
     "slide_type": "-"
    }
   },
   "source": [
    "<h1 align=\"center\">Explorar el concepto de Pluralismo utilizando la Ciencia de los Datos: un estudio de caso con el ecosistema mediático de Chile</h3>"
   ]
  },
  {
   "cell_type": "markdown",
   "metadata": {
    "collapsed": true
   },
   "source": [
    "<div align=\"center\"><i>Autores: Profesores y Estudiantes del Magíster en Informática (Universidad Austral de Chile)</i></div>\n",
    "<div align=\"center\"><i>I semestre 2018</i></div>"
   ]
  },
  {
   "cell_type": "markdown",
   "metadata": {},
   "source": [
    "<h2>1. Objetivo de la investigación</h2>\n",
    "<ul>\n",
    "<li><p>El <b>pluralismo</b> de los medios es un principio que garantiza que l@s ciudadan@s disponen de una información pólitica e ideólogica diversificada, permitiendoles ejercer su <i>espiritu crítico</i> y su <i>libertad de pensar</i>. Por lo tanto, la Organización de las Naciones Unidas para la Educación, la Ciencia y la Cultura (UNESCO) definió el pluralismo de los medios como una condición necesaria para construir la Democracía.</p></li>\n",
    "<li></li>"
   ]
  },
  {
   "cell_type": "markdown",
   "metadata": {},
   "source": [
    "<h3> 1.2 \"<i>Se mejora solo lo que se mide y entiende</i>\": ¿Cómo medir el Pluralismo de los Medios?</b></h3>"
   ]
  },
  {
   "cell_type": "markdown",
   "metadata": {},
   "source": [
    "- Desde los años 2000, las comunidades de las Ciencias de la Comunicación y Póliticas empezarón a definir más precisamente el concepto de Pluralismo de los Medios, definiendo criterios para medirlo y aplicando estos criterios sobre algunos ecosistema mediático. La evolución del número de articulos científicos utilizando el concepto de 'Media Pluralism' refleja esta toma de conciencia."
   ]
  },
  {
   "cell_type": "markdown",
   "metadata": {},
   "source": [
    "- ¿El Big Data/La Ciencia de los Datos puede aportar a entender más precisamente el concepto? y automatizar la medición del pluralismo en distintos ecosistemas mediaticos? "
   ]
  },
  {
   "cell_type": "markdown",
   "metadata": {
    "collapsed": true
   },
   "source": [
    "<h3><b>1.3 <i>Clustering</i>: un conjunto de técnicas en Ciencia de los Datos para explorar la diversidad en los datos </b></h3>"
   ]
  },
  {
   "cell_type": "markdown",
   "metadata": {},
   "source": [
    "- Clustering particional vs. Clustering jerárquico\n",
    "- Center-based clustering vs. Density-based clustering\n",
    "- Algoritmos de clustering: K-means (y variantes: K-medoids, K-centers), Hierarchical Clustering, DBSCAN\n",
    "- Metricas para medir la similidad o distancia entre clusters (inter-cluster): Min, Max, Avg, distance between centroids, squared error (SSE), etc.\n",
    "- Visualizar agrupamientos de datos\n",
    "- Topic Modeling, Clustering con datos de alta dimensionalidad, Latent Dirichlet Allocation (LDA)"
   ]
  },
  {
   "cell_type": "markdown",
   "metadata": {},
   "source": [
    "<h3><b>1.4 Preguntas de investigación </b></h3>"
   ]
  },
  {
   "cell_type": "markdown",
   "metadata": {},
   "source": [
    "<b>Pregunta general:</b>\n",
    "<p>¿Se puede establecer un protocolo computacional para medir y entender varias facetas del Pluralismo de los Medios basandose sobre técnicas de Clustering de datos?</p>\n",
    "\n",
    "<p> Para responder a la pregunta general, se establece una lista de <b>preguntas específicas</b>:</p>\n",
    "\n",
    "- <b>pregunta 1</b>: En el marco de casos noticiosos particulares (por ejemplo:...), ¿en cuantos clusters se dividen los medios de prensa? cuál es la distancia entre los clusters?\n",
    "- <b>pregunta 2</b>: En el marco de casos noticiosos particulares, ¿en cuantos <i>topics</i> se dividen las noticias (agrupamiento particional y jerarquico) ? ¿Cuál es la distancia entre los clusters? Cómo se distribuyen los medios según estos topics?\n",
    "- <b>pregunta 3</b>: En el marco de una semana de noticias dada, ¿en cuantos clusters se dividen los medios de prensa?\n",
    "- <b>pregunta 4</b>: ..."
   ]
  },
  {
   "cell_type": "markdown",
   "metadata": {},
   "source": [
    "<h2>2. Recopilación de los datos</h2>"
   ]
  },
  {
   "cell_type": "markdown",
   "metadata": {},
   "source": [
    "<h2>3. Preparación de los datos</h2>"
   ]
  },
  {
   "cell_type": "markdown",
   "metadata": {},
   "source": [
    "<h2>4. Exploración de los datos</h2>"
   ]
  },
  {
   "cell_type": "markdown",
   "metadata": {},
   "source": [
    "<h2>5. Modelamiento de los datos</h2>"
   ]
  },
  {
   "cell_type": "markdown",
   "metadata": {},
   "source": [
    "<h2>6. Presentación de los datos</h2>"
   ]
  },
  {
   "cell_type": "markdown",
   "metadata": {},
   "source": [
    "<h2>7. Discusión</h2>"
   ]
  },
  {
   "cell_type": "code",
   "execution_count": null,
   "metadata": {
    "collapsed": true
   },
   "outputs": [],
   "source": []
  }
 ],
 "metadata": {
  "kernelspec": {
   "display_name": "Python 3",
   "language": "python",
   "name": "python3"
  },
  "language_info": {
   "codemirror_mode": {
    "name": "ipython",
    "version": 3
   },
   "file_extension": ".py",
   "mimetype": "text/x-python",
   "name": "python",
   "nbconvert_exporter": "python",
   "pygments_lexer": "ipython3",
   "version": "3.6.1"
  },
  "widgets": {
   "application/vnd.jupyter.widget-state+json": {
    "state": {},
    "version_major": 1,
    "version_minor": 0
   }
  }
 },
 "nbformat": 4,
 "nbformat_minor": 2
}
